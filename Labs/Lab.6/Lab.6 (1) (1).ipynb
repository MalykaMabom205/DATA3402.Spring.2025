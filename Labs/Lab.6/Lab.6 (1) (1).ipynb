{
 "cells": [
  {
   "cell_type": "markdown",
   "metadata": {},
   "source": [
    "# Lab 6"
   ]
  },
  {
   "cell_type": "markdown",
   "metadata": {},
   "source": [
    "You are tasked with evaluating card counting strategies for black jack. In order to do so, you will use object oriented programming to create a playable casino style black jack game where a computer dealer plays against $n$ computer players and possibily one human player. If you don't know the rules of blackjack or card counting, please google it. \n",
    "\n",
    "A few requirements:\n",
    "* The game should utilize multiple 52-card decks. Typically the game is played with 6 decks.\n",
    "* Players should have chips.\n",
    "* Dealer's actions are predefined by rules of the game (typically hit on 16). \n",
    "* The players should be aware of all shown cards so that they can count cards.\n",
    "* Each player could have a different strategy.\n",
    "* The system should allow you to play large numbers of games, study the outcomes, and compare average winnings per hand rate for different strategies."
   ]
  },
  {
   "cell_type": "markdown",
   "metadata": {},
   "source": [
    "1. Begin by creating a classes to represent cards and decks. The deck should support more than one 52-card set. The deck should allow you to shuffle and draw cards. Include a \"plastic\" card, placed randomly in the deck. Later, when the plastic card is dealt, shuffle the cards before the next deal."
   ]
  },
  {
   "cell_type": "markdown",
   "metadata": {},
   "source": [
    "2. Now design your game on a UML diagram. You may want to create classes to represent, players, a hand, and/or the game. As you work through the lab, update your UML diagram. At the end of the lab, submit your diagram (as pdf file) along with your notebook. "
   ]
  },
  {
   "cell_type": "markdown",
   "metadata": {},
   "source": [
    "3. Begin with implementing the skeleton (ie define data members and methods/functions, but do not code the logic) of the classes in your UML diagram."
   ]
  },
  {
   "cell_type": "markdown",
   "metadata": {},
   "source": [
    "4. Complete the implementation by coding the logic of all functions. For now, just implement the dealer player and human player."
   ]
  },
  {
   "cell_type": "markdown",
   "metadata": {},
   "source": [
    "5.  Test. Demonstrate game play. For example, create a game of several dealer players and show that the game is functional through several rounds."
   ]
  },
  {
   "cell_type": "markdown",
   "metadata": {},
   "source": [
    "6. Implement a new player with the following strategy:\n",
    "\n",
    "    * Assign each card a value: \n",
    "        * Cards 2 to 6 are +1 \n",
    "        * Cards 7 to 9 are 0 \n",
    "        * Cards 10 through Ace are -1\n",
    "    * Compute the sum of the values for all cards seen so far.\n",
    "    * Hit if sum is very negative, stay if sum is very positive. Select a threshold for hit/stay, e.g. 0 or -2.  "
   ]
  },
  {
   "cell_type": "markdown",
   "metadata": {},
   "source": [
    "7. Create a test scenario where one player, using the above strategy, is playing with a dealer and 3 other players that follow the dealer's strategy. Each player starts with same number of chips. Play 50 rounds (or until the strategy player is out of money). Compute the strategy player's winnings. You may remove unnecessary printouts from your code (perhaps implement a verbose/quiet mode) to reduce the output."
   ]
  },
  {
   "cell_type": "markdown",
   "metadata": {},
   "source": [
    "8. Create a loop that runs 100 games of 50 rounds, as setup in previous question, and store the strategy player's chips at the end of the game (aka \"winnings\") in a list. Histogram the winnings. What is the average winnings per round? What is the standard deviation. What is the probabilty of net winning or lossing after 50 rounds?\n"
   ]
  },
  {
   "cell_type": "markdown",
   "metadata": {},
   "source": [
    "9. Repeat previous questions scanning the value of the threshold. Try at least 5 different threshold values. Can you find an optimal value?"
   ]
  },
  {
   "cell_type": "markdown",
   "metadata": {},
   "source": [
    "10. Create a new strategy based on web searches or your own ideas. Demonstrate that the new strategy will result in increased or decreased winnings. "
   ]
  },
  {
   "cell_type": "code",
   "execution_count": 6,
   "metadata": {},
   "outputs": [
    {
     "data": {
      "image/png": "[encoded data removed]",
      "text/plain": [
       "<Figure size 640x480 with 1 Axes>"
      ]
     },
     "metadata": {},
     "output_type": "display_data"
    },
    {
     "name": "stdout",
     "output_type": "stream",
     "text": [
      "Average winnings: 953.8\n",
      "Standard deviation: 71.31311239877279\n",
      "Probability of winning: 0.21\n",
      "Probability of losing: 0.77\n"
     ]
    }
   ],
   "source": [
    "import random\n",
    "import numpy as np\n",
    "import matplotlib.pyplot as plt\n",
    "\n",
    "# Card class representing individual cards\n",
    "class Card:\n",
    "    def __init__(self, suit, rank, value):\n",
    "        self.suit = suit\n",
    "        self.rank = rank\n",
    "        self.value = value\n",
    "    \n",
    "    def __str__(self):\n",
    "        return f\"{self.rank} of {self.suit}\"\n",
    "\n",
    "# Deck class representing multiple decks of cards\n",
    "class Deck:\n",
    "    suits = ['Hearts', 'Diamonds', 'Clubs', 'Spades']\n",
    "    ranks = ['2', '3', '4', '5', '6', '7', '8', '9', '10', 'J', 'Q', 'K', 'A']\n",
    "    values = {'2': 2, '3': 3, '4': 4, '5': 5, '6': 6, '7': 7, '8': 8, '9': 9, '10': 10, 'J': 10, 'Q': 10, 'K': 10, 'A': 11}\n",
    "    \n",
    "    def __init__(self, num_decks=6):\n",
    "        # Initializing the deck with multiple decks\n",
    "        self.num_decks = num_decks\n",
    "        self.initialize_deck()\n",
    "    \n",
    "    def initialize_deck(self):\n",
    "        self.cards = [Card(suit, rank, self.values[rank]) for suit in self.suits for rank in self.ranks] * self.num_decks\n",
    "        self.shuffle()\n",
    "        self.plastic_card = random.randint(20, len(self.cards) - 20)\n",
    "    \n",
    "    def shuffle(self):\n",
    "        random.shuffle(self.cards)\n",
    "    \n",
    "    def draw_card(self):\n",
    "        if not self.cards:  # If the deck is empty, reinitialize and shuffle\n",
    "            self.initialize_deck()\n",
    "        return self.cards.pop()\n",
    "\n",
    "# Player class representing the players in the game\n",
    "class Player:\n",
    "    def __init__(self, name, chips=1000):\n",
    "        self.name = name\n",
    "        self.chips = chips\n",
    "        self.hand = []\n",
    "        self.count = 0  # Card counting value\n",
    "    \n",
    "    def place_bet(self, amount):\n",
    "        if amount > self.chips:\n",
    "            return False\n",
    "        self.chips -= amount\n",
    "        return True\n",
    "    \n",
    "    def receive_card(self, card):\n",
    "        if card:\n",
    "            self.hand.append(card)\n",
    "            self.update_count(card)\n",
    "    \n",
    "    def clear_hand(self):\n",
    "        self.hand = []\n",
    "    \n",
    "    def hand_value(self):\n",
    "        value = sum(card.value for card in self.hand)\n",
    "        aces = sum(1 for card in self.hand if card.rank == 'A')\n",
    "        while value > 21 and aces:\n",
    "            value -= 10\n",
    "            aces -= 1\n",
    "        return value\n",
    "    \n",
    "    def is_busted(self):\n",
    "        return self.hand_value() > 21\n",
    "    \n",
    "    # Implementing the card counting strategy\n",
    "    def update_count(self, card):\n",
    "        if card.rank in ['2', '3', '4', '5', '6']:\n",
    "            self.count += 1\n",
    "        elif card.rank in ['10', 'J', 'Q', 'K', 'A']:\n",
    "            self.count -= 1\n",
    "\n",
    "    # Strategy decision based on card counting\n",
    "    def strategy_decision(self):\n",
    "        if self.count <= -2:\n",
    "            return \"hit\"\n",
    "        return \"stand\"\n",
    "\n",
    "# Dealer class inherits from Player\n",
    "class Dealer(Player):\n",
    "    def __init__(self):\n",
    "        super().__init__(\"Dealer\")\n",
    "    \n",
    "    def play(self, deck):\n",
    "        while self.hand_value() < 17:\n",
    "            self.receive_card(deck.draw_card())\n",
    "\n",
    "# BlackjackGame class to handle multiple players and game simulation\n",
    "class BlackjackGame:\n",
    "    def __init__(self, num_players=4):\n",
    "        self.deck = Deck()\n",
    "        self.dealer = Dealer()\n",
    "        self.players = [Player(f\"Player {i+1}\") for i in range(num_players - 1)]\n",
    "        self.strategy_player = Player(\"Strategy Player\")\n",
    "        self.players.append(self.strategy_player)\n",
    "    \n",
    "    def deal_initial_cards(self):\n",
    "        for _ in range(2):\n",
    "            for player in self.players:\n",
    "                player.receive_card(self.deck.draw_card())\n",
    "            self.dealer.receive_card(self.deck.draw_card())\n",
    "    \n",
    "    def play_round(self):\n",
    "        self.deal_initial_cards()\n",
    "        \n",
    "        for player in self.players:\n",
    "            while player.hand_value() < 17 or (player == self.strategy_player and player.strategy_decision() == \"hit\"):\n",
    "                player.receive_card(self.deck.draw_card())\n",
    "        \n",
    "        self.dealer.play(self.deck)\n",
    "        self.resolve_bets()\n",
    "    \n",
    "    def resolve_bets(self):\n",
    "        dealer_value = self.dealer.hand_value()\n",
    "        for player in self.players:\n",
    "            player_value = player.hand_value()\n",
    "            if player.is_busted() or (dealer_value <= 21 and dealer_value > player_value):\n",
    "                player.chips -= 10\n",
    "            elif dealer_value > 21 or player_value > dealer_value:\n",
    "                player.chips += 10\n",
    "\n",
    "    def play_multiple_rounds(self, num_rounds=50):\n",
    "        for _ in range(num_rounds):\n",
    "            self.play_round()\n",
    "            for player in self.players:\n",
    "                player.clear_hand()\n",
    "            self.dealer.clear_hand()\n",
    "        return self.strategy_player.chips\n",
    "    \n",
    "    def simulate_games(self, num_games=100):\n",
    "        winnings = []\n",
    "        for _ in range(num_games):\n",
    "            self.strategy_player.chips = 1000\n",
    "            winnings.append(self.play_multiple_rounds())\n",
    "        return winnings\n",
    "    \n",
    "    def analyze_strategy(self):\n",
    "        winnings = self.simulate_games()\n",
    "        avg_winnings = np.mean(winnings)\n",
    "        std_dev = np.std(winnings)\n",
    "        probability_winning = sum(1 for w in winnings if w > 1000) / len(winnings)\n",
    "        probability_losing = sum(1 for w in winnings if w < 1000) / len(winnings)\n",
    "        \n",
    "        # Histogram visualization\n",
    "        plt.hist(winnings, bins=20, alpha=0.75, edgecolor='black')\n",
    "        plt.xlabel(\"Final Chips\")\n",
    "        plt.ylabel(\"Frequency\")\n",
    "        plt.title(\"Histogram of Strategy Player's Winnings\")\n",
    "        plt.show()\n",
    "        \n",
    "        return avg_winnings, std_dev, probability_winning, probability_losing\n",
    "\n",
    "# Running the analysis\n",
    "game = BlackjackGame()\n",
    "avg_winnings, std_dev, prob_win, prob_loss = game.analyze_strategy()\n",
    "print(f\"Average winnings: {avg_winnings}\")\n",
    "print(f\"Standard deviation: {std_dev}\")\n",
    "print(f\"Probability of winning: {prob_win}\")\n",
    "print(f\"Probability of losing: {prob_loss}\")\n"
   ]
  },
  {
   "cell_type": "code",
   "execution_count": null,
   "metadata": {},
   "outputs": [],
   "source": []
  }
 ],
 "metadata": {
  "kernelspec": {
   "display_name": "Python 3 (ipykernel)",
   "language": "python",
   "name": "python3"
  },
  "language_info": {
   "codemirror_mode": {
    "name": "ipython",
    "version": 3
   },
   "file_extension": ".py",
   "mimetype": "text/x-python",
   "name": "python",
   "nbconvert_exporter": "python",
   "pygments_lexer": "ipython3",
   "version": "3.11.7"
  }
 },
 "nbformat": 4,
 "nbformat_minor": 4
}
